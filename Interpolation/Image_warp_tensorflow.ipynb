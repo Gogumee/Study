{
 "cells": [
  {
   "cell_type": "code",
   "execution_count": 1,
   "metadata": {
    "collapsed": true
   },
   "outputs": [],
   "source": [
    "from __future__ import division, print_function, absolute_import\n",
    "\n",
    "import sys\n",
    "import numpy as np\n",
    "import tensorflow as tf\n",
    "\n",
    "from scipy import linalg\n",
    "from scipy._lib.six import callable, get_method_function, get_function_code\n",
    "from scipy.special import xlogy"
   ]
  },
  {
   "cell_type": "code",
   "execution_count": 2,
   "metadata": {},
   "outputs": [],
   "source": [
    "grid_y, grid_x = np.mgrid[0:159:160j, 0:159:160j]\n",
    "batch_size = 1\n",
    "landmarks_num = 76\n",
    "grid_shape = grid_x.shape\n",
    "tf_xa = np.asarray([a.flatten() for a in [grid_x, grid_y]], dtype=np.float_) # (2, 25600)\n",
    "tf_xa = np.asarray([tf_xa for _ in range(0, batch_size)], dtype=np.float_) # (batch_size, 2, 25600)"
   ]
  },
  {
   "cell_type": "code",
   "execution_count": 3,
   "metadata": {
    "collapsed": true
   },
   "outputs": [],
   "source": [
    "def rbf_tf(pred_x, pred_y, correct_points, grids, batch_size):\n",
    "    def _euclidean_norm_tf(x1, x2):    \n",
    "        return tf.reduce_sum(tf.sqrt(((x1 - x2)**2)), 1) \n",
    "\n",
    "    def _h_linear_tf(r):\n",
    "        return r\n",
    "\n",
    "    def _call_norm_tf(x1, x2):\n",
    "        x1 = tf.expand_dims(x1, 3) \n",
    "        x2 = tf.expand_dims(x2, 2) \n",
    "        return _euclidean_norm_tf(x1, x2)    \n",
    "\n",
    "    # set parameters\n",
    "    norm = _euclidean_norm_tf\n",
    "    function = _h_linear_tf\n",
    "    epsilon = tf.constant(2.)\n",
    "    smooth = tf.constant(1.)\n",
    "\n",
    "    xi = tf.concat([tf.reshape(pred_x, (-1, 1, landmarks_num)), tf.reshape(pred_y, (-1, 1, landmarks_num))], 1) # (Node, 2, 76)\n",
    "    N = xi.shape[-1].value # same as landmarks_num => 76\n",
    "    di = tf.expand_dims(correct_points, 2) # (?, 76, 1)\n",
    "        \n",
    "    r = _call_norm_tf(xi, xi) # (None, 76, 76)\n",
    "    A = tf.subtract(r, tf.multiply(smooth, tf.eye(N, batch_shape= [batch_size])))\n",
    "\n",
    "    nodes = tf.matrix_solve (A, di)\n",
    "\n",
    "    r2 = _call_norm_tf(grids, xi)\n",
    "    return tf.reshape(tf.matmul(r2, nodes), [-1, grid_shape[0], grid_shape[1]]) "
   ]
  },
  {
   "cell_type": "code",
   "execution_count": 8,
   "metadata": {},
   "outputs": [],
   "source": [
    "# test data\n",
    "correct_x_p = np.random.randint(160, size=landmarks_num)\n",
    "correct_y_p = np.random.randint(160, size=landmarks_num)\n",
    "pred_x_p = np.random.randint(160, size=landmarks_num)\n",
    "pred_y_p = np.random.randint(160, size=landmarks_num)"
   ]
  },
  {
   "cell_type": "code",
   "execution_count": 5,
   "metadata": {},
   "outputs": [],
   "source": [
    "with tf.Graph().as_default():\n",
    "    correct_x = tf.placeholder(tf.float32, (None, landmarks_num), name= 'correct_x')\n",
    "    correct_y = tf.placeholder(tf.float32, (None, landmarks_num), name= 'correct_y')\n",
    "    pred_x = tf.placeholder(tf.float32, (None, landmarks_num), name= 'pred_x')\n",
    "    pred_y = tf.placeholder(tf.float32, (None, landmarks_num), name= 'pred_y')\n",
    "    \n",
    "#     image_input = tf.constant(image, dtype=tf.float32, name= 'image_input')\n",
    "    grids = tf.constant(tf_xa, dtype=tf.float32, name= 'grids')\n",
    "    \n",
    "    rbf_x = rbf_tf(pred_x, pred_y, correct_x, grids, batch_size)\n",
    "    rbf_y = rbf_tf(pred_x, pred_y, correct_y, grids, batch_size)\n",
    "    \n",
    "    #warped = cv2.remap(image, map_x, map_y, cv2.INTER_LINEAR)\n",
    "    with tf.Session() as sess :\n",
    "        sess.run(tf.global_variables_initializer())\n",
    "        \n",
    "        feed_dict = {\n",
    "            correct_x : correct_x_p.reshape(-1, landmarks_num),\n",
    "            correct_y : correct_y_p.reshape(-1, landmarks_num),\n",
    "            pred_x : pred_x_p.reshape(-1, landmarks_num),\n",
    "            pred_y : pred_y_p.reshape(-1, landmarks_num)\n",
    "        }\n",
    "        \n",
    "        x, y = sess.run([rbf_x, rbf_y], feed_dict= feed_dict)"
   ]
  },
  {
   "cell_type": "code",
   "execution_count": 7,
   "metadata": {},
   "outputs": [
    {
     "data": {
      "text/plain": [
       "((1, 160, 160), (1, 160, 160))"
      ]
     },
     "execution_count": 7,
     "metadata": {},
     "output_type": "execute_result"
    }
   ],
   "source": [
    "x.shape, y.shape"
   ]
  },
  {
   "cell_type": "code",
   "execution_count": null,
   "metadata": {
    "collapsed": true
   },
   "outputs": [],
   "source": []
  }
 ],
 "metadata": {
  "kernelspec": {
   "display_name": "Python 3",
   "language": "python",
   "name": "python3"
  },
  "language_info": {
   "codemirror_mode": {
    "name": "ipython",
    "version": 3
   },
   "file_extension": ".py",
   "mimetype": "text/x-python",
   "name": "python",
   "nbconvert_exporter": "python",
   "pygments_lexer": "ipython3",
   "version": "3.6.1"
  }
 },
 "nbformat": 4,
 "nbformat_minor": 2
}

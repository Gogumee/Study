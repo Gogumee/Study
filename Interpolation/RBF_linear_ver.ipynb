{
 "cells": [
  {
   "cell_type": "code",
   "execution_count": 2,
   "metadata": {
    "collapsed": true
   },
   "outputs": [],
   "source": [
    "from __future__ import division, print_function, absolute_import\n",
    "\n",
    "import sys\n",
    "import numpy as np\n",
    "\n",
    "from scipy import linalg\n",
    "from scipy._lib.six import callable, get_method_function, get_function_code\n",
    "from scipy.special import xlogy"
   ]
  },
  {
   "cell_type": "code",
   "execution_count": 4,
   "metadata": {
    "collapsed": true
   },
   "outputs": [],
   "source": [
    "\"\"\"\n",
    "rbf - Radial basis functions for interpolation/smoothing scattered Nd data.\n",
    "\"\"\"\n",
    "__all__ = ['Rbf'] # export RBF class"
   ]
  },
  {
   "cell_type": "code",
   "execution_count": 34,
   "metadata": {
    "scrolled": true
   },
   "outputs": [
    {
     "data": {
      "image/png": "[encoded data removed]",
      "text/plain": [
       "<matplotlib.figure.Figure at 0x111707080>"
      ]
     },
     "metadata": {},
     "output_type": "display_data"
    }
   ],
   "source": [
    "# # \"Examples Usange\"\n",
    "# from scipy.interpolate import Rbf\n",
    "# import matplotlib.pyplot as plt\n",
    "# x, y, z, d = np.random.rand(4, 50)\n",
    "# rbfi = Rbf(x, y, z, d, function='linear')  # radial basis function interpolator instance\n",
    "# xi = yi = zi = np.linspace(0, 1, 20)\n",
    "# di = rbfi(xi, yi, zi)   # interpolated values\n",
    "# di.shape # (20,)\n",
    "# plt.plot(xi, di, 'ro')\n",
    "# plt.axis([0, 1, 0, 1])\n",
    "# plt.show()"
   ]
  },
  {
   "cell_type": "code",
   "execution_count": 25,
   "metadata": {
    "collapsed": true
   },
   "outputs": [
    {
     "data": {
      "text/plain": [
       "\"\\nRbf(*args)\\nA class for radial basis function approximation/interpolation of\\nn-dimensional scattered data.\\nParameters\\n----------\\n*args : arrays\\n    x, y, z, ..., d, where x, y, z, ... are the coordinates of the nodes\\n    and d is the array of values at the nodes\\nfunction : str or callable, optional\\n    The radial basis function, based on the radius, r, given by the norm\\n    (default is Euclidean distance); the default is 'multiquadric'::\\n        'multiquadric': sqrt((r/self.epsilon)**2 + 1)\\n        'inverse': 1.0/sqrt((r/self.epsilon)**2 + 1)\\n        'gaussian': exp(-(r/self.epsilon)**2)\\n        'linear': r\\n        'cubic': r**3\\n        'quintic': r**5\\n        'thin_plate': r**2 * log(r)\\n    If callable, then it must take 2 arguments (self, r).  The epsilon\\n    parameter will be available as self.epsilon.  Other keyword\\n    arguments passed in will be available as well.\\nepsilon : float, optional\\n    Adjustable constant for gaussian or multiquadrics functions\\n    - defaults to approximate average distance between nodes (which is\\n    a good start).\\nsmooth : float, optional\\n    Values greater than zero increase the smoothness of the\\n    approximation.  0 is for interpolation (default), the function will\\n    always go through the nodal points in this case.\\nnorm : callable, optional\\n    A function that returns the 'distance' between two points, with\\n    inputs as arrays of positions (x, y, z, ...), and an output as an\\n    array of distance.  E.g, the default::\\n        def euclidean_norm(x1, x2):\\n            return sqrt( ((x1 - x2)**2).sum(axis=0) )\\n    which is called with x1=x1[ndims,newaxis,:] and\\n    x2=x2[ndims,:,newaxis] such that the result is a matrix of the\\n    distances from each point in x1 to each point in x2.\\n\\n\""
      ]
     },
     "execution_count": 25,
     "metadata": {},
     "output_type": "execute_result"
    }
   ],
   "source": [
    "\"\"\"\n",
    "Rbf(*args)\n",
    "A class for radial basis function approximation/interpolation of\n",
    "n-dimensional scattered data.\n",
    "Parameters\n",
    "----------\n",
    "*args : arrays\n",
    "    x, y, z, ..., d, where x, y, z, ... are the coordinates of the nodes\n",
    "    and d is the array of values at the nodes\n",
    "function : str or callable, optional\n",
    "    The radial basis function, based on the radius, r, given by the norm\n",
    "    (default is Euclidean distance); the default is 'multiquadric'::\n",
    "        'multiquadric': sqrt((r/self.epsilon)**2 + 1)\n",
    "        'inverse': 1.0/sqrt((r/self.epsilon)**2 + 1)\n",
    "        'gaussian': exp(-(r/self.epsilon)**2)\n",
    "        'linear': r\n",
    "        'cubic': r**3\n",
    "        'quintic': r**5\n",
    "        'thin_plate': r**2 * log(r)\n",
    "    If callable, then it must take 2 arguments (self, r).  The epsilon\n",
    "    parameter will be available as self.epsilon.  Other keyword\n",
    "    arguments passed in will be available as well.\n",
    "epsilon : float, optional\n",
    "    Adjustable constant for gaussian or multiquadrics functions\n",
    "    - defaults to approximate average distance between nodes (which is\n",
    "    a good start).\n",
    "smooth : float, optional\n",
    "    Values greater than zero increase the smoothness of the\n",
    "    approximation.  0 is for interpolation (default), the function will\n",
    "    always go through the nodal points in this case.\n",
    "norm : callable, optional\n",
    "    A function that returns the 'distance' between two points, with\n",
    "    inputs as arrays of positions (x, y, z, ...), and an output as an\n",
    "    array of distance.  E.g, the default::\n",
    "        def euclidean_norm(x1, x2):\n",
    "            return sqrt( ((x1 - x2)**2).sum(axis=0) )\n",
    "    which is called with x1=x1[ndims,newaxis,:] and\n",
    "    x2=x2[ndims,:,newaxis] such that the result is a matrix of the\n",
    "    distances from each point in x1 to each point in x2.\n",
    "\n",
    "\"\"\""
   ]
  },
  {
   "cell_type": "code",
   "execution_count": 109,
   "metadata": {
    "collapsed": true
   },
   "outputs": [],
   "source": [
    "class CustomRbf(object):\n",
    "    def _euclidean_norm(self, x1, x2):\n",
    "        return np.sqrt(((x1 - x2)**2).sum(axis=0))\n",
    "\n",
    "    def _h_linear(self, r):\n",
    "        return r\n",
    "    \n",
    "    # Setup self._function and do smoke test on initial r\n",
    "    def _init_function(self, r):\n",
    "        self.function = self.function.lower()\n",
    "        \n",
    "        func_name = \"_h_\" + self.function\n",
    "        self._function = getattr(self, func_name)\n",
    "        a0 = self._function(r) # (50, 50)\n",
    "        if a0.shape != r.shape:\n",
    "            raise ValueError(\"Callable must take array and return array of the same shape\")\n",
    "        return a0\n",
    "\n",
    "    def __init__(self, *args, **kwargs):\n",
    "        # args[:-1] => except last element, d\n",
    "        self.xi = np.asarray([np.asarray(a, dtype=np.float_).flatten() for a in args[:-1]])\n",
    "        self.N = self.xi.shape[-1]\n",
    "        self.di = np.asarray(args[-1]).flatten()\n",
    "\n",
    "        if not all([x.size == self.di.size for x in self.xi]):\n",
    "            raise ValueError(\"All arrays must be equal length.\")\n",
    "\n",
    "        self.norm = kwargs.pop('norm', self._euclidean_norm)\n",
    "        r = self._call_norm(self.xi, self.xi)\n",
    "        self.epsilon = kwargs.pop('epsilon', None)\n",
    "        if self.epsilon is None:\n",
    "            # default epsilon is the \"the average distance between nodes\" based on a bounding hypercube\n",
    "            dim = self.xi.shape[0]\n",
    "            ximax = np.amax(self.xi, axis=1) # ex) [ 0.95796556  0.97210597  0.98511454]\n",
    "            ximin = np.amin(self.xi, axis=1) # ex) [ 0.0021079   0.00774162  0.00727649]\n",
    "            edges = ximax-ximin # ex) [ 0.95585766  0.96436435  0.97783805]\n",
    "            # nonzero => 요소들 중 0이 아닌 값들의 index 들을 반환해 주는 함수\n",
    "            # 해당 edges는 모든 요소가 0이 아니므로 위의 edges와 아래의 edges는 같다.\n",
    "            edges = edges[np.nonzero(edges)] \n",
    "            self.epsilon = np.power(np.prod(edges)/self.N, 1.0/edges.size)\n",
    "        self.smooth = kwargs.pop('smooth', 0.0)\n",
    "\n",
    "        self.function = kwargs.pop('function', 'multiquadric')\n",
    "        print(self.function) # linear\n",
    "\n",
    "        # attach anything left in kwargs to self for use by any user-callable function or \n",
    "        # to save on the object returned. \n",
    "        for item, value in kwargs.items(): \n",
    "            setattr(self, item, value) # Not enter here!\n",
    "\n",
    "        self.A = self._init_function(r) - np.eye(self.N)*self.smooth # r.shape (50, 50)\n",
    "        self.nodes = linalg.solve(self.A, self.di)\n",
    "\n",
    "    def _call_norm(self, x1, x2):\n",
    "        if len(x1.shape) == 1:\n",
    "            x1 = x1[np.newaxis, :]\n",
    "        if len(x2.shape) == 1:\n",
    "            x2 = x2[np.newaxis, :]\n",
    "        x1 = x1[..., :, np.newaxis] # (3, 50) -> (3, 50, 1)\n",
    "        x2 = x2[..., np.newaxis, :] # (3, 50) -> (3, 1, 50)\n",
    "        return self.norm(x1, x2) # (50, 50)\n",
    "\n",
    "    def __call__(self, *args):\n",
    "        args = [np.asarray(x) for x in args]\n",
    "        if not all([x.shape == y.shape for x in args for y in args]):\n",
    "            raise ValueError(\"Array lengths must be equal\")\n",
    "        shp = args[0].shape\n",
    "        xa = np.asarray([a.flatten() for a in args], dtype=np.float_)\n",
    "        r = self._call_norm(xa, self.xi)\n",
    "        return np.dot(self._function(r), self.nodes).reshape(shp)"
   ]
  },
  {
   "cell_type": "code",
   "execution_count": 111,
   "metadata": {},
   "outputs": [
    {
     "name": "stdout",
     "output_type": "stream",
     "text": [
      "linear\n",
      "(50, 50)\n"
     ]
    }
   ],
   "source": [
    "# \"Examples Usange\"\n",
    "import matplotlib.pyplot as plt\n",
    "x, y, z, d = np.random.rand(4, 50)\n",
    "rbfi = CustomRbf(x, y, z, d, function='linear')  # radial basis function interpolator instance\n",
    "# xi = yi = zi = np.linspace(0, 1, 20)\n",
    "# di = rbfi(xi, yi, zi)   # interpolated values\n",
    "# di.shape # (20,)\n",
    "# plt.plot(xi, di, 'ro')\n",
    "# plt.axis([0, 1, 0, 1])\n",
    "# plt.show()"
   ]
  },
  {
   "cell_type": "code",
   "execution_count": null,
   "metadata": {
    "collapsed": true
   },
   "outputs": [],
   "source": []
  }
 ],
 "metadata": {
  "kernelspec": {
   "display_name": "Python 3",
   "language": "python",
   "name": "python3"
  },
  "language_info": {
   "codemirror_mode": {
    "name": "ipython",
    "version": 3
   },
   "file_extension": ".py",
   "mimetype": "text/x-python",
   "name": "python",
   "nbconvert_exporter": "python",
   "pygments_lexer": "ipython3",
   "version": "3.6.1"
  }
 },
 "nbformat": 4,
 "nbformat_minor": 2
}

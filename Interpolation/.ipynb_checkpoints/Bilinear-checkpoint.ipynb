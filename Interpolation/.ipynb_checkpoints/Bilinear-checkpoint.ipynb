{
 "cells": [
  {
   "cell_type": "code",
   "execution_count": 1,
   "metadata": {
    "collapsed": true
   },
   "outputs": [],
   "source": [
    "# https://github.com/tensorflow/tensorflow/blob/r1.3/tensorflow/contrib/resampler/python/ops/resampler_ops_test.py\n",
    "\"\"\"Tests for contrib.resampler.python.ops.resampler_ops\"\"\"\n",
    "from __future__ import absolute_import\n",
    "from __future__ import division\n",
    "from __future__ import print_function\n",
    "\n",
    "import numpy as np\n",
    "from six.moves import xrange\n",
    "# range는 list 생성, xrange는 lazy evalute한 sequence 생성\n",
    "\n",
    "import tensorflow\n",
    "from tensorflow.contrib import resampler\n",
    "from tensorflow.python.framework import constant_op\n",
    "from tensorflow.python.framework import dtypes\n",
    "from tensorflow.python.framework import errors_impl\n",
    "from tensorflow.python.ops import array_ops\n",
    "from tensorflow.python.platform import test"
   ]
  },
  {
   "cell_type": "code",
   "execution_count": 2,
   "metadata": {
    "collapsed": true
   },
   "outputs": [],
   "source": [
    "# parameters settings\n",
    "np.random.seed(0)\n",
    "data_width = 9\n",
    "data_height = 9\n",
    "data_channels = 3\n",
    "warp_width = 4\n",
    "warp_height = 4\n",
    "batch_size = 10\n",
    "dtype = dtypes.float32"
   ]
  },
  {
   "cell_type": "code",
   "execution_count": 3,
   "metadata": {
    "collapsed": true
   },
   "outputs": [],
   "source": [
    "def _make_warp(batch_size, warp_height, warp_width, dtype):\n",
    "    \"\"\"Creates batch of warping coordinates.\"\"\"\n",
    "    x, y = np.meshgrid(np.linspace(0, warp_width - 1, warp_width), np.linspace(0, warp_height - 1, warp_height))\n",
    "    warp = np.concatenate((x.reshape([warp_height, warp_width, 1]), y.reshape([warp_height, warp_width, 1])), 2)\n",
    "    warp = np.tile(warp.reshape([1, warp_height, warp_width, 2]), [batch_size, 1, 1, 1])\n",
    "    warp += np.random.randn(*warp.shape)\n",
    "    return warp.astype(dtype)"
   ]
  },
  {
   "cell_type": "code",
   "execution_count": 194,
   "metadata": {
    "collapsed": true
   },
   "outputs": [],
   "source": [
    "def _bilinearly_interpolate(data, x, y):\n",
    "    \"\"\"\n",
    "    Performs bilinenar interpolation of grid data at user defined coordinates. This interpolation function:\n",
    "        a) implicitly pads the input data with 0s.\n",
    "        b) returns 0 when sampling outside the (padded) image.\n",
    "    The effect is that the sampled signal smoothly goes to 0 outside the original input domain, rather than producing a jump discontinuity at the image\n",
    "    boundaries.\n",
    "    Args:\n",
    "        data: numpy array of shape `[data_height, data_width]` containing data \n",
    "            samples assumed to be defined at the corresponding pixel coordinates.\n",
    "        x: numpy array of shape `[warp_height, warp_width]` containing x coordinates \n",
    "            at which interpolation will be performed.\n",
    "        y: numpy array of shape `[warp_height, warp_width]` containing y coordinates\n",
    "            at which interpolation will be performed.\n",
    "    Returns:\n",
    "        Numpy array of shape `[warp_height, warp_width]` containing interpolated values.\n",
    "  \"\"\"\n",
    "    shape = x.shape\n",
    "    x = np.asarray(x) + 1\n",
    "    y = np.asarray(y) + 1\n",
    "    data = np.lib.pad(data, 1, \"constant\", constant_values=0)\n",
    "\n",
    "    x_0 = np.floor(x).astype(int)\n",
    "    x_1 = x_0 + 1\n",
    "    y_0 = np.floor(y).astype(int)\n",
    "    y_1 = y_0 + 1\n",
    "\n",
    "    x_0 = np.clip(x_0, 0, data.shape[1] - 1)\n",
    "    x_1 = np.clip(x_1, 0, data.shape[1] - 1)\n",
    "    y_0 = np.clip(y_0, 0, data.shape[0] - 1)\n",
    "    y_1 = np.clip(y_1, 0, data.shape[0] - 1)\n",
    "\n",
    "    i_a = data[y_0, x_0]\n",
    "    i_b = data[y_1, x_0]\n",
    "    i_c = data[y_0, x_1]\n",
    "    i_d = data[y_1, x_1]\n",
    "    \n",
    "    w_a = (x_1 - x) * (y_1 - y)\n",
    "    w_b = (x_1 - x) * (y - y_0)\n",
    "    w_c = (x - x_0) * (y_1 - y)\n",
    "    w_d = (x - x_0) * (y - y_0)\n",
    "\n",
    "    samples = (w_a * i_a + w_b * i_b + w_c * i_c + w_d * i_d)\n",
    "    samples.reshape(shape)\n",
    "    return samples"
   ]
  },
  {
   "cell_type": "code",
   "execution_count": 4,
   "metadata": {
    "collapsed": true
   },
   "outputs": [],
   "source": [
    "warp = _make_warp(batch_size, warp_height, warp_width, dtype.as_numpy_dtype) # (10, 4, 4, 2)\n",
    "data_shape = (batch_size, data_height, data_width, data_channels)\n",
    "data = np.random.rand(*data_shape).astype(dtype.as_numpy_dtype)"
   ]
  },
  {
   "cell_type": "code",
   "execution_count": 196,
   "metadata": {},
   "outputs": [
    {
     "name": "stdout",
     "output_type": "stream",
     "text": [
      "[None, 4, 4, 3]\n",
      "[None, 4, 4, 3]\n"
     ]
    }
   ],
   "source": [
    "with tensorflow.Session() as sess:\n",
    "    data_ph = array_ops.placeholder(dtype, shape=(None,) + data.shape[1:])\n",
    "    warp_ph = array_ops.placeholder(dtype, shape=(None,) + warp.shape[1:])\n",
    "    outputs = resampler.resampler(data=data_ph, warp=warp_ph)\n",
    "    # print equal shape\n",
    "    print(outputs.get_shape().as_list())\n",
    "    print([None, warp_height, warp_width, data_channels]) \n",
    "    out = sess.run(outputs, feed_dict={data_ph: data, warp_ph: warp})"
   ]
  },
  {
   "cell_type": "code",
   "execution_count": 197,
   "metadata": {},
   "outputs": [
    {
     "data": {
      "text/plain": [
       "True"
      ]
     },
     "execution_count": 197,
     "metadata": {},
     "output_type": "execute_result"
    }
   ],
   "source": [
    "# Generate reference output via bilinear interpolation in numpy\n",
    "reference_output = np.zeros_like(out)\n",
    "for batch in xrange(batch_size):\n",
    "    for c in xrange(data_channels):\n",
    "        reference_output[batch, :, :, c] = _bilinearly_interpolate(\n",
    "            data[batch, :, :, c],\n",
    "            warp[batch, :, :, 0],\n",
    "            warp[batch, :, :, 1])\n",
    "\n",
    "np.all((reference_output - out) < 1e-4) # True "
   ]
  },
  {
   "cell_type": "code",
   "execution_count": 198,
   "metadata": {
    "scrolled": true
   },
   "outputs": [
    {
     "name": "stdout",
     "output_type": "stream",
     "text": [
      "[[ 0.22848166  0.73045607  0.91852663]\n",
      " [ 0.28141611  0.69065354  0.40065741]\n",
      " [ 0.29022665  0.96962347  0.34863323]\n",
      " [ 0.10784968  0.38858921  0.44767829]\n",
      " [ 0.75221083  0.94991427  0.81705698]]\n",
      "[ 0.40065741  0.40065741]\n",
      "[ 0.96962347  0.28141611]\n",
      "[[ 0.40065741  0.69065354]\n",
      " [ 0.96962347  0.29022665]]\n"
     ]
    }
   ],
   "source": [
    "# cf) np index에 대한 이해 예제\n",
    "test_shape = [5, 3]\n",
    "test_data = np.random.rand(*test_shape)\n",
    "x_test = [[2, 1], [1, 0]]\n",
    "y_test = [[1, 1], [2, 2]]\n",
    "print(test_data)\n",
    "print(test_data[y_test])\n",
    "print(test_data[x_test])\n",
    "print(test_data[y_test, x_test])"
   ]
  },
  {
   "cell_type": "code",
   "execution_count": 202,
   "metadata": {
    "collapsed": true
   },
   "outputs": [],
   "source": [
    "# cf) np.mgrid vs np.meshgrid\n",
    "# 참고: http://louistiao.me/posts/numpy-mgrid-vs-meshgrid/\n",
    "# if wapr_widht == warp_height (이 예제에서 => 2)\n",
    "# x, y = np.meshgrid(np.linspace(0, warp_width - 1, warp_width), np.linspace(0, warp_height - 1, warp_height))\n",
    "# y, x = np.mgrid[0:1:2j,0:1:2j]"
   ]
  },
  {
   "cell_type": "code",
   "execution_count": 201,
   "metadata": {
    "collapsed": true
   },
   "outputs": [],
   "source": [
    "# tensorflow bilinear 구현\n",
    "# https://github.com/iwyoo/tf-bilinear_sampler/blob/master/bilinear_sampler.py\n",
    "\n",
    "def bilinear_sampler(x, v, resize=False, normalize=False, crop=None, out=\"CONSTANT\"):\n",
    "    \"\"\"\n",
    "    Args:\n",
    "      x - Input tensor [N, H, W, C]\n",
    "      v - Vector flow tensor [N, H, W, 2], tf.float32\n",
    "      (optional)\n",
    "      resize - Whether to resize v as same size as x\n",
    "      normalize - Whether to normalize v from scale 1 to H (or W).\n",
    "                  h : [-1, 1] -> [-H/2, H/2]\n",
    "                  w : [-1, 1] -> [-W/2, W/2]\n",
    "      crop - Setting the region to sample. 4-d list [h0, h1, w0, w1]\n",
    "      out  - Handling out of boundary value.\n",
    "             Zero value is used if out=\"CONSTANT\".\n",
    "             Boundary values are used if out=\"EDGE\".\n",
    "  \"\"\"\n",
    "\n",
    "\n",
    "    def _get_grid_array(N, H, W, h, w):\n",
    "        N_i = np.arange(N)\n",
    "        H_i = np.arange(h+1, h+H+1)\n",
    "        W_i = np.arange(w+1, w+W+1)\n",
    "        n, h, w, = np.meshgrid(N_i, H_i, W_i, indexing='ij')\n",
    "        n = np.expand_dims(n, axis=3) # [N, H, W, 1]\n",
    "        h = np.expand_dims(h, axis=3) # [N, H, W, 1]\n",
    "        w = np.expand_dims(w, axis=3) # [N, H, W, 1]\n",
    "        return n, h, w\n",
    "\n",
    "    shape = x.get_shape().as_list() # Should it be fixed size ?\n",
    "    N = shape[0]\n",
    "    if crop is None:\n",
    "        H_ = H = shape[1]\n",
    "        W_ = W = shape[2]\n",
    "        h = w = 0\n",
    "    else :\n",
    "        H_ = shape[1]\n",
    "        W_ = shape[2]\n",
    "        H = crop[1] - crop[0]\n",
    "        W = crop[3] - crop[2]\n",
    "        h = crop[0]\n",
    "        w = crop[2]\n",
    "\n",
    "    if resize:\n",
    "        if callable(resize):\n",
    "            v = resize(v, [H, W])\n",
    "    else:\n",
    "        v = tf.image.resize_bilinear(v, [H, W])\n",
    "\n",
    "    if out == \"CONSTANT\":\n",
    "        x = tf.pad(x, ((0,0), (1,1), (1,1), (0,0)), mode='CONSTANT')\n",
    "    elif out == \"EDGE\":\n",
    "        x = tf.pad(x, ((0,0), (1,1), (1,1), (0,0)), mode='REFLECT')\n",
    "\n",
    "    vy, vx = tf.split(v, 2, axis=3)\n",
    "    if normalize :\n",
    "        vy *= (H / 2)\n",
    "        vx *= (W / 2)\n",
    "\n",
    "    n, h, w = _get_grid_array(N, H, W, h, w) # [N, H, W, 3]\n",
    "\n",
    "    vx0 = tf.floor(vx)\n",
    "    vy0 = tf.floor(vy)\n",
    "    vx1 = vx0 + 1\n",
    "    vy1 = vy0 + 1 # [N, H, W, 1]\n",
    "\n",
    "    iy0 = tf.clip_by_value(vy0 + h, 0., H_+1)\n",
    "    iy1 = tf.clip_by_value(vy1 + h, 0., H_+1)\n",
    "    ix0 = tf.clip_by_value(vx0 + w, 0., W_+1)\n",
    "    ix1 = tf.clip_by_value(vx1 + w, 0., W_+1)\n",
    "    i00 = tf.concat([n, iy0, ix0], 3)\n",
    "    i01 = tf.concat([n, iy1, ix0], 3)\n",
    "    i10 = tf.concat([n, iy0, ix1], 3)\n",
    "    i11 = tf.concat([n, iy1, ix1], 3) # [N, H, W, 3]\n",
    "    i00 = tf.cast(i00, tf.int32)\n",
    "    i01 = tf.cast(i01, tf.int32)\n",
    "    i10 = tf.cast(i10, tf.int32)\n",
    "    i11 = tf.cast(i11, tf.int32)\n",
    "\n",
    "    x00 = tf.gather_nd(x, i00)\n",
    "    x01 = tf.gather_nd(x, i01)\n",
    "    x10 = tf.gather_nd(x, i10)\n",
    "    x11 = tf.gather_nd(x, i11)\n",
    "    w00 = tf.cast((vx1 - vx) * (vy1 - vy), tf.float32)\n",
    "    w01 = tf.cast((vx1 - vx) * (vy - vy0), tf.float32)\n",
    "    w10 = tf.cast((vx - vx0) * (vy1 - vy), tf.float32)\n",
    "    w11 = tf.cast((vx - vx0) * (vy - vy0), tf.float32)\n",
    "    output = tf.add_n([w00*x00, w01*x01, w10*x10, w11*x11])\n",
    "\n",
    "    return output"
   ]
  },
  {
   "cell_type": "code",
   "execution_count": null,
   "metadata": {
    "collapsed": true
   },
   "outputs": [],
   "source": []
  }
 ],
 "metadata": {
  "kernelspec": {
   "display_name": "Python 3",
   "language": "python",
   "name": "python3"
  },
  "language_info": {
   "codemirror_mode": {
    "name": "ipython",
    "version": 3
   },
   "file_extension": ".py",
   "mimetype": "text/x-python",
   "name": "python",
   "nbconvert_exporter": "python",
   "pygments_lexer": "ipython3",
   "version": "3.6.1"
  }
 },
 "nbformat": 4,
 "nbformat_minor": 2
}

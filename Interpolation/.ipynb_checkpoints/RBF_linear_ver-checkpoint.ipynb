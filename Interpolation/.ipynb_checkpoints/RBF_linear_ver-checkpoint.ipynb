{
 "cells": [
  {
   "cell_type": "code",
   "execution_count": 21,
   "metadata": {
    "collapsed": true
   },
   "outputs": [],
   "source": [
    "from __future__ import division, print_function, absolute_import\n",
    "\n",
    "import sys\n",
    "import numpy as np\n",
    "import tensorflow as tf\n",
    "\n",
    "from scipy import linalg\n",
    "from scipy._lib.six import callable, get_method_function, get_function_code\n",
    "from scipy.special import xlogy"
   ]
  },
  {
   "cell_type": "code",
   "execution_count": 4,
   "metadata": {
    "collapsed": true
   },
   "outputs": [],
   "source": [
    "\"\"\"\n",
    "rbf - Radial basis functions for interpolation/smoothing scattered Nd data.\n",
    "\"\"\"\n",
    "__all__ = ['Rbf'] # export RBF class"
   ]
  },
  {
   "cell_type": "code",
   "execution_count": 34,
   "metadata": {
    "scrolled": true
   },
   "outputs": [
    {
     "data": {
      "image/png": "[encoded data removed]",
      "text/plain": [
       "<matplotlib.figure.Figure at 0x111707080>"
      ]
     },
     "metadata": {},
     "output_type": "display_data"
    }
   ],
   "source": [
    "# # \"Examples Usange\"\n",
    "# from scipy.interpolate import Rbf\n",
    "# import matplotlib.pyplot as plt\n",
    "# x, y, z, d = np.random.rand(4, 50)\n",
    "# rbfi = Rbf(x, y, z, d, function='linear')  # radial basis function interpolator instance\n",
    "# xi = yi = zi = np.linspace(0, 1, 20)\n",
    "# di = rbfi(xi, yi, zi)   # interpolated values\n",
    "# di.shape # (20,)\n",
    "# plt.plot(xi, di, 'ro')\n",
    "# plt.axis([0, 1, 0, 1])\n",
    "# plt.show()"
   ]
  },
  {
   "cell_type": "code",
   "execution_count": 25,
   "metadata": {
    "collapsed": true
   },
   "outputs": [
    {
     "data": {
      "text/plain": [
       "\"\\nRbf(*args)\\nA class for radial basis function approximation/interpolation of\\nn-dimensional scattered data.\\nParameters\\n----------\\n*args : arrays\\n    x, y, z, ..., d, where x, y, z, ... are the coordinates of the nodes\\n    and d is the array of values at the nodes\\nfunction : str or callable, optional\\n    The radial basis function, based on the radius, r, given by the norm\\n    (default is Euclidean distance); the default is 'multiquadric'::\\n        'multiquadric': sqrt((r/self.epsilon)**2 + 1)\\n        'inverse': 1.0/sqrt((r/self.epsilon)**2 + 1)\\n        'gaussian': exp(-(r/self.epsilon)**2)\\n        'linear': r\\n        'cubic': r**3\\n        'quintic': r**5\\n        'thin_plate': r**2 * log(r)\\n    If callable, then it must take 2 arguments (self, r).  The epsilon\\n    parameter will be available as self.epsilon.  Other keyword\\n    arguments passed in will be available as well.\\nepsilon : float, optional\\n    Adjustable constant for gaussian or multiquadrics functions\\n    - defaults to approximate average distance between nodes (which is\\n    a good start).\\nsmooth : float, optional\\n    Values greater than zero increase the smoothness of the\\n    approximation.  0 is for interpolation (default), the function will\\n    always go through the nodal points in this case.\\nnorm : callable, optional\\n    A function that returns the 'distance' between two points, with\\n    inputs as arrays of positions (x, y, z, ...), and an output as an\\n    array of distance.  E.g, the default::\\n        def euclidean_norm(x1, x2):\\n            return sqrt( ((x1 - x2)**2).sum(axis=0) )\\n    which is called with x1=x1[ndims,newaxis,:] and\\n    x2=x2[ndims,:,newaxis] such that the result is a matrix of the\\n    distances from each point in x1 to each point in x2.\\n\\n\""
      ]
     },
     "execution_count": 25,
     "metadata": {},
     "output_type": "execute_result"
    }
   ],
   "source": [
    "\"\"\"\n",
    "Rbf(*args)\n",
    "A class for radial basis function approximation/interpolation of\n",
    "n-dimensional scattered data.\n",
    "Parameters\n",
    "----------\n",
    "*args : arrays\n",
    "    x, y, z, ..., d, where x, y, z, ... are the coordinates of the nodes\n",
    "    and d is the array of values at the nodes\n",
    "function : str or callable, optional\n",
    "    The radial basis function, based on the radius, r, given by the norm\n",
    "    (default is Euclidean distance); the default is 'multiquadric'::\n",
    "        'multiquadric': sqrt((r/self.epsilon)**2 + 1)\n",
    "        'inverse': 1.0/sqrt((r/self.epsilon)**2 + 1)\n",
    "        'gaussian': exp(-(r/self.epsilon)**2)\n",
    "        'linear': r\n",
    "        'cubic': r**3\n",
    "        'quintic': r**5\n",
    "        'thin_plate': r**2 * log(r)\n",
    "    If callable, then it must take 2 arguments (self, r).  The epsilon\n",
    "    parameter will be available as self.epsilon.  Other keyword\n",
    "    arguments passed in will be available as well.\n",
    "epsilon : float, optional\n",
    "    Adjustable constant for gaussian or multiquadrics functions\n",
    "    - defaults to approximate average distance between nodes (which is\n",
    "    a good start).\n",
    "smooth : float, optional\n",
    "    Values greater than zero increase the smoothness of the\n",
    "    approximation.  0 is for interpolation (default), the function will\n",
    "    always go through the nodal points in this case.\n",
    "norm : callable, optional\n",
    "    A function that returns the 'distance' between two points, with\n",
    "    inputs as arrays of positions (x, y, z, ...), and an output as an\n",
    "    array of distance.  E.g, the default::\n",
    "        def euclidean_norm(x1, x2):\n",
    "            return sqrt( ((x1 - x2)**2).sum(axis=0) )\n",
    "    which is called with x1=x1[ndims,newaxis,:] and\n",
    "    x2=x2[ndims,:,newaxis] such that the result is a matrix of the\n",
    "    distances from each point in x1 to each point in x2.\n",
    "\n",
    "\"\"\""
   ]
  },
  {
   "cell_type": "code",
   "execution_count": 72,
   "metadata": {
    "collapsed": true
   },
   "outputs": [],
   "source": [
    "class CustomRbf(object):\n",
    "    def _euclidean_norm(self, x1, x2):\n",
    "        return np.sqrt(((x1 - x2)**2).sum(axis=0))\n",
    "\n",
    "    def _h_linear(self, r):\n",
    "        return r\n",
    "    \n",
    "    # Setup self._function and do smoke test on initial r\n",
    "    def _init_function(self, r):\n",
    "        self.function = self.function.lower()\n",
    "        \n",
    "        func_name = \"_h_\" + self.function\n",
    "        self._function = getattr(self, func_name)\n",
    "        a0 = self._function(r) # (50, 50)\n",
    "        if a0.shape != r.shape:\n",
    "            raise ValueError(\"Callable must take array and return array of the same shape\")\n",
    "        return a0\n",
    "\n",
    "    def __init__(self, *args, **kwargs):\n",
    "        # args[:-1] => except last element, d\n",
    "        self.xi = np.asarray([np.asarray(a, dtype=np.float_).flatten() for a in args[:-1]])\n",
    "        self.N = self.xi.shape[-1]\n",
    "        self.di = np.asarray(args[-1]).flatten()\n",
    "\n",
    "        if not all([x.size == self.di.size for x in self.xi]):\n",
    "            raise ValueError(\"All arrays must be equal length.\")\n",
    "\n",
    "        self.norm = kwargs.pop('norm', self._euclidean_norm)\n",
    "        print(self.xi.shape)\n",
    "        self.r = self._call_norm(self.xi, self.xi)\n",
    "        self.epsilon = kwargs.pop('epsilon', None)\n",
    "        if self.epsilon is None:\n",
    "            # default epsilon is the \"the average distance between nodes\" based on a bounding hypercube\n",
    "            dim = self.xi.shape[0]\n",
    "            ximax = np.amax(self.xi, axis=1) # ex) [ 0.95796556  0.97210597  0.98511454]\n",
    "            ximin = np.amin(self.xi, axis=1) # ex) [ 0.0021079   0.00774162  0.00727649]\n",
    "            edges = ximax-ximin # ex) [ 0.95585766  0.96436435  0.97783805]\n",
    "            # nonzero => 요소들 중 0이 아닌 값들의 index 들을 반환해 주는 함수\n",
    "            # 해당 edges는 모든 요소가 0이 아니므로 위의 edges와 아래의 edges는 같다.\n",
    "            edges = edges[np.nonzero(edges)] \n",
    "            self.epsilon = np.power(np.prod(edges)/self.N, 1.0/edges.size)\n",
    "        self.smooth = kwargs.pop('smooth', 0.0)\n",
    "\n",
    "        self.function = kwargs.pop('function', 'multiquadric')\n",
    "#         print(self.function) # linear\n",
    "\n",
    "        # attach anything left in kwargs to self for use by any user-callable function or \n",
    "        # to save on the object returned. \n",
    "        for item, value in kwargs.items(): \n",
    "            setattr(self, item, value) # Not enter here!\n",
    "\n",
    "        self.A = self._init_function(self.r) - np.eye(self.N)*self.smooth # r.shape (50, 50)\n",
    "        self.nodes = linalg.solve(self.A, self.di)\n",
    "\n",
    "    def _call_norm(self, x1, x2):\n",
    "        if len(x1.shape) == 1:\n",
    "            x1 = x1[np.newaxis, :]\n",
    "        if len(x2.shape) == 1:\n",
    "            x2 = x2[np.newaxis, :]\n",
    "        x1 = x1[..., :, np.newaxis] # (3, 50) -> (3, 50, 1)\n",
    "        x2 = x2[..., np.newaxis, :] # (3, 50) -> (3, 1, 50)\n",
    "        return self.norm(x1, x2) # (50, 50)\n",
    "\n",
    "    def __call__(self, *args):\n",
    "        args = [np.asarray(x) for x in args]\n",
    "        if not all([x.shape == y.shape for x in args for y in args]):\n",
    "            raise ValueError(\"Array lengths must be equal\")\n",
    "        shp = args[0].shape\n",
    "        xa = np.asarray([a.flatten() for a in args], dtype=np.float_)\n",
    "        r = self._call_norm(xa, self.xi)\n",
    "        return np.dot(self._function(r), self.nodes).reshape(shp)"
   ]
  },
  {
   "cell_type": "code",
   "execution_count": 75,
   "metadata": {
    "collapsed": true
   },
   "outputs": [],
   "source": [
    "tf_x = tf.convert_to_tensor(x, dtype=tf.float64)\n",
    "tf_y = tf.convert_to_tensor(y, dtype=tf.float64)\n",
    "tf_z = tf.convert_to_tensor(z, dtype=tf.float64)"
   ]
  },
  {
   "cell_type": "code",
   "execution_count": 78,
   "metadata": {},
   "outputs": [
    {
     "data": {
      "text/plain": [
       "TensorShape([Dimension(3), Dimension(50)])"
      ]
     },
     "execution_count": 78,
     "metadata": {},
     "output_type": "execute_result"
    }
   ],
   "source": [
    "tf_xi.shape"
   ]
  },
  {
   "cell_type": "code",
   "execution_count": null,
   "metadata": {
    "collapsed": true
   },
   "outputs": [],
   "source": [
    "def _euclidean_norm(self, x1, x2):\n",
    "    return np.sqrt(((x1 - x2)**2).sum(axis=0))"
   ]
  },
  {
   "cell_type": "code",
   "execution_count": 129,
   "metadata": {
    "collapsed": true
   },
   "outputs": [],
   "source": [
    "def _tf_euclidean_norm(x1, x2):\n",
    "    return tf.reduce_sum(tf.sqrt(((x1 - x2)**2)), 2)"
   ]
  },
  {
   "cell_type": "code",
   "execution_count": 139,
   "metadata": {},
   "outputs": [
    {
     "data": {
      "text/plain": [
       "<tf.Tensor 'strided_slice:0' shape=(50, 50) dtype=float64>"
      ]
     },
     "execution_count": 139,
     "metadata": {},
     "output_type": "execute_result"
    }
   ],
   "source": [
    "tf.sqrt(((x1 - x2)**2))[0].eval()"
   ]
  },
  {
   "cell_type": "code",
   "execution_count": 130,
   "metadata": {
    "collapsed": true
   },
   "outputs": [],
   "source": [
    "# (3, 50)\n",
    "tf_xi = tf.stack([tf_x, tf_y, tf_z])\n",
    "tf_xi_1 = tf.expand_dims(tf_xi, 2)\n",
    "tf_xi_2 = tf.expand_dims(tf_xi, 1)\n",
    "tf_r = _tf_euclidean_norm(tf_xi_1, tf_xi_2)\n",
    "# tf_r = tf.norm(tf_xi, ord='euclidean', axis=0, keep_dims=False, name=None)"
   ]
  },
  {
   "cell_type": "code",
   "execution_count": 116,
   "metadata": {
    "collapsed": true
   },
   "outputs": [],
   "source": [
    "x1 = np.asarray([x, y, z])[..., :, np.newaxis]\n",
    "x2 = np.asarray([x, y, z])[..., np.newaxis, :]"
   ]
  },
  {
   "cell_type": "code",
   "execution_count": 121,
   "metadata": {},
   "outputs": [
    {
     "data": {
      "text/plain": [
       "(3, 50, 50)"
      ]
     },
     "execution_count": 121,
     "metadata": {},
     "output_type": "execute_result"
    }
   ],
   "source": [
    "np.sqrt(((x1 - x2)**2)).shape"
   ]
  },
  {
   "cell_type": "code",
   "execution_count": 123,
   "metadata": {},
   "outputs": [
    {
     "data": {
      "text/plain": [
       "TensorShape([Dimension(50), Dimension(50)])"
      ]
     },
     "execution_count": 123,
     "metadata": {},
     "output_type": "execute_result"
    }
   ],
   "source": [
    "tf.reduce_sum(tf.sqrt(((x1 - x2)**2)), 0).shape"
   ]
  },
  {
   "cell_type": "code",
   "execution_count": 137,
   "metadata": {},
   "outputs": [
    {
     "data": {
      "text/plain": [
       "False"
      ]
     },
     "execution_count": 137,
     "metadata": {},
     "output_type": "execute_result"
    }
   ],
   "source": [
    "np.all( tf.reduce_sum(tf.sqrt(((x1 - x2)**2)), 0, keep_dims=True).eval() - np.sqrt(((x1 - x2)**2).sum(axis=0)) == 0)"
   ]
  },
  {
   "cell_type": "code",
   "execution_count": 104,
   "metadata": {},
   "outputs": [
    {
     "data": {
      "text/plain": [
       "array([[ 0.        ,  0.41510694,  0.76557084, ...,  0.6168975 ,\n",
       "         0.83155214,  0.57182998],\n",
       "       [ 0.41510694,  0.        ,  0.54193483, ...,  0.58595942,\n",
       "         0.6693379 ,  0.57213628],\n",
       "       [ 0.76557084,  0.54193483,  0.        , ...,  1.11970501,\n",
       "         0.84594652,  0.38443597],\n",
       "       ..., \n",
       "       [ 0.6168975 ,  0.58595942,  1.11970501, ...,  0.        ,\n",
       "         1.00295988,  1.05703908],\n",
       "       [ 0.83155214,  0.6693379 ,  0.84594652, ...,  1.00295988,\n",
       "         0.        ,  1.00620394],\n",
       "       [ 0.57182998,  0.57213628,  0.38443597, ...,  1.05703908,\n",
       "         1.00620394,  0.        ]])"
      ]
     },
     "execution_count": 104,
     "metadata": {},
     "output_type": "execute_result"
    }
   ],
   "source": [
    "rbfi.r"
   ]
  },
  {
   "cell_type": "code",
   "execution_count": 103,
   "metadata": {},
   "outputs": [
    {
     "data": {
      "text/plain": [
       "array([[ 0.        ,  0.62965504,  1.08352177, ...,  0.86106535,\n",
       "         1.19146747,  0.85136743],\n",
       "       [ 0.62965504,  0.        ,  0.91052445, ...,  1.01246757,\n",
       "         1.15175334,  0.88181846],\n",
       "       [ 1.08352177,  0.91052445,  0.        , ...,  1.92299202,\n",
       "         1.05657014,  0.52034394],\n",
       "       ..., \n",
       "       [ 0.86106535,  1.01246757,  1.92299202, ...,  0.        ,\n",
       "         1.49268759,  1.71243279],\n",
       "       [ 1.19146747,  1.15175334,  1.05657014, ...,  1.49268759,\n",
       "         0.        ,  1.38917452],\n",
       "       [ 0.85136743,  0.88181846,  0.52034394, ...,  1.71243279,\n",
       "         1.38917452,  0.        ]])"
      ]
     },
     "execution_count": 103,
     "metadata": {},
     "output_type": "execute_result"
    }
   ],
   "source": [
    "tf_r.eval()"
   ]
  },
  {
   "cell_type": "code",
   "execution_count": 71,
   "metadata": {},
   "outputs": [
    {
     "data": {
      "text/plain": [
       "(50, 50)"
      ]
     },
     "execution_count": 71,
     "metadata": {},
     "output_type": "execute_result"
    }
   ],
   "source": [
    "rbfi.r.shape"
   ]
  },
  {
   "cell_type": "code",
   "execution_count": 65,
   "metadata": {},
   "outputs": [
    {
     "ename": "IndentationError",
     "evalue": "expected an indented block (<ipython-input-65-2c906de85233>, line 5)",
     "output_type": "error",
     "traceback": [
      "\u001b[0;36m  File \u001b[0;32m\"<ipython-input-65-2c906de85233>\"\u001b[0;36m, line \u001b[0;32m5\u001b[0m\n\u001b[0;31m    def CustomRbf(object):\u001b[0m\n\u001b[0m      ^\u001b[0m\n\u001b[0;31mIndentationError\u001b[0m\u001b[0;31m:\u001b[0m expected an indented block\n"
     ]
    }
   ],
   "source": [
    "def linearRBF(*args):\n",
    "    \n",
    "\n",
    "    \n",
    "def CustomRbf(object):\n",
    "    def _euclidean_norm(self, x1, x2):\n",
    "        return np.sqrt(((x1 - x2)**2).sum(axis=0))\n",
    "\n",
    "    def _h_linear(self, r):\n",
    "        return r\n",
    "    \n",
    "    # Setup self._function and do smoke test on initial r\n",
    "    def _init_function(self, r):\n",
    "        self.function = self.function.lower()\n",
    "        \n",
    "        func_name = \"_h_\" + self.function\n",
    "        self._function = getattr(self, func_name)\n",
    "        a0 = self._function(r) # (50, 50)\n",
    "        if a0.shape != r.shape:\n",
    "            raise ValueError(\"Callable must take array and return array of the same shape\")\n",
    "        return a0\n",
    "\n",
    "    def __init__(self, *args, **kwargs):\n",
    "        # args[:-1] => except last element, d\n",
    "        self.xi = np.asarray([np.asarray(a, dtype=np.float_).flatten() for a in args[:-1]])\n",
    "        self.N = self.xi.shape[-1]\n",
    "        self.di = np.asarray(args[-1]).flatten()\n",
    "\n",
    "        if not all([x.size == self.di.size for x in self.xi]):\n",
    "            raise ValueError(\"All arrays must be equal length.\")\n",
    "\n",
    "        self.norm = kwargs.pop('norm', self._euclidean_norm)\n",
    "        self.r = self._call_norm(self.xi, self.xi)\n",
    "        self.epsilon = kwargs.pop('epsilon', None)\n",
    "        if self.epsilon is None:\n",
    "            # default epsilon is the \"the average distance between nodes\" based on a bounding hypercube\n",
    "            dim = self.xi.shape[0]\n",
    "            ximax = np.amax(self.xi, axis=1) # ex) [ 0.95796556  0.97210597  0.98511454]\n",
    "            ximin = np.amin(self.xi, axis=1) # ex) [ 0.0021079   0.00774162  0.00727649]\n",
    "            edges = ximax-ximin # ex) [ 0.95585766  0.96436435  0.97783805]\n",
    "            # nonzero => 요소들 중 0이 아닌 값들의 index 들을 반환해 주는 함수\n",
    "            # 해당 edges는 모든 요소가 0이 아니므로 위의 edges와 아래의 edges는 같다.\n",
    "            edges = edges[np.nonzero(edges)] \n",
    "            self.epsilon = np.power(np.prod(edges)/self.N, 1.0/edges.size)\n",
    "        self.smooth = kwargs.pop('smooth', 0.0)\n",
    "\n",
    "        self.function = kwargs.pop('function', 'multiquadric')\n",
    "        print(self.function) # linear\n",
    "\n",
    "        # attach anything left in kwargs to self for use by any user-callable function or \n",
    "        # to save on the object returned. \n",
    "        for item, value in kwargs.items(): \n",
    "            setattr(self, item, value) # Not enter here!\n",
    "\n",
    "        self.A = self._init_function(self.r) - np.eye(self.N)*self.smooth # r.shape (50, 50)\n",
    "        self.nodes = linalg.solve(self.A, self.di)\n",
    "\n",
    "    def _call_norm(self, x1, x2):\n",
    "        if len(x1.shape) == 1:\n",
    "            x1 = x1[np.newaxis, :]\n",
    "        if len(x2.shape) == 1:\n",
    "            x2 = x2[np.newaxis, :]\n",
    "        x1 = x1[..., :, np.newaxis] # (3, 50) -> (3, 50, 1)\n",
    "        x2 = x2[..., np.newaxis, :] # (3, 50) -> (3, 1, 50)\n",
    "        return self.norm(x1, x2) # (50, 50)\n",
    "\n",
    "    def __call__(self, *args):\n",
    "        args = [np.asarray(x) for x in args]\n",
    "        if not all([x.shape == y.shape for x in args for y in args]):\n",
    "            raise ValueError(\"Array lengths must be equal\")\n",
    "        shp = args[0].shape\n",
    "        xa = np.asarray([a.flatten() for a in args], dtype=np.float_)\n",
    "        r = self._call_norm(xa, self.xi)\n",
    "        return np.dot(self._function(r), self.nodes).reshape(shp)"
   ]
  },
  {
   "cell_type": "code",
   "execution_count": 73,
   "metadata": {},
   "outputs": [
    {
     "name": "stdout",
     "output_type": "stream",
     "text": [
      "(3, 50)\n"
     ]
    }
   ],
   "source": [
    "# \"Examples Usange\"\n",
    "import matplotlib.pyplot as plt\n",
    "x, y, z, d = np.random.rand(4, 50)\n",
    "rbfi = CustomRbf(x, y, z, d, function='linear')  # radial basis function interpolator instance\n",
    "# xi = yi = zi = np.linspace(0, 1, 20)\n",
    "# di = rbfi(xi, yi, zi)   # interpolated values\n",
    "# di.shape # (20,)\n",
    "# plt.plot(xi, di, 'ro')\n",
    "# plt.axis([0, 1, 0, 1])\n",
    "# plt.show()"
   ]
  },
  {
   "cell_type": "code",
   "execution_count": 15,
   "metadata": {},
   "outputs": [
    {
     "data": {
      "text/plain": [
       "(50,)"
      ]
     },
     "execution_count": 15,
     "metadata": {},
     "output_type": "execute_result"
    }
   ],
   "source": [
    "rbfi.nodes"
   ]
  },
  {
   "cell_type": "code",
   "execution_count": 16,
   "metadata": {},
   "outputs": [
    {
     "data": {
      "text/plain": [
       "(array([[ 0.        ,  1.23608765,  0.64115199, ...,  0.93179603,\n",
       "          1.00382912,  0.41260331],\n",
       "        [ 1.23608765,  0.        ,  0.79073354, ...,  0.89985561,\n",
       "          0.55287134,  0.99952799],\n",
       "        [ 0.64115199,  0.79073354,  0.        , ...,  0.8416919 ,\n",
       "          0.87757442,  0.58983222],\n",
       "        ..., \n",
       "        [ 0.93179603,  0.89985561,  0.8416919 , ...,  0.        ,\n",
       "          0.83469331,  1.01097731],\n",
       "        [ 1.00382912,  0.55287134,  0.87757442, ...,  0.83469331,\n",
       "          0.        ,  0.73356184],\n",
       "        [ 0.41260331,  0.99952799,  0.58983222, ...,  1.01097731,\n",
       "          0.73356184,  0.        ]]),\n",
       " array([ 0.49160599,  0.12938456,  0.30019097,  0.61767145,  0.40779301,\n",
       "         0.68039477,  0.5664044 ,  0.78909106,  0.80271959,  0.68905749,\n",
       "         0.35805022,  0.02314279,  0.22622383,  0.95835426,  0.20421891,\n",
       "         0.72075174,  0.1439016 ,  0.66159104,  0.78901559,  0.48848783,\n",
       "         0.81132225,  0.81259163,  0.91996269,  0.94257481,  0.19090937,\n",
       "         0.41358901,  0.58595213,  0.54861451,  0.26443823,  0.00147262,\n",
       "         0.48664712,  0.42955664,  0.46928111,  0.71496355,  0.21114637,\n",
       "         0.08619027,  0.80970824,  0.39579425,  0.71997886,  0.30525721,\n",
       "         0.28256671,  0.4506653 ,  0.87888539,  0.27649925,  0.43900253,\n",
       "         0.23306692,  0.57099376,  0.37612214,  0.04483897,  0.300659  ]))"
      ]
     },
     "execution_count": 16,
     "metadata": {},
     "output_type": "execute_result"
    }
   ],
   "source": [
    "rbfi.A, rbfi.di"
   ]
  },
  {
   "cell_type": "code",
   "execution_count": 18,
   "metadata": {},
   "outputs": [
    {
     "data": {
      "text/plain": [
       "(50,)"
      ]
     },
     "execution_count": 18,
     "metadata": {},
     "output_type": "execute_result"
    }
   ],
   "source": [
    "rbfi.di.shape"
   ]
  },
  {
   "cell_type": "code",
   "execution_count": null,
   "metadata": {
    "collapsed": true
   },
   "outputs": [],
   "source": [
    "self.nodes = linalg.solve(self.A, self.di)"
   ]
  },
  {
   "cell_type": "code",
   "execution_count": null,
   "metadata": {
    "collapsed": true
   },
   "outputs": [],
   "source": [
    "sess = tf.InteractiveSession()\n",
    "tf_A = tf.convert_to_tensor(rbfi.A, dtype=tf.float64)\n",
    "tf_di = tf.convert_to_tensor(rbfi.di, dtype=tf.float64)\n",
    "tf_di = tf.expand_dims(tf_di, 1)\n",
    "tf_nodes = tf.matrix_solve(tf_A, tf_di)\n",
    "# tf_nodes.eval() - rbfi.nodes"
   ]
  },
  {
   "cell_type": "code",
   "execution_count": 52,
   "metadata": {
    "collapsed": true
   },
   "outputs": [],
   "source": [
    "tf_A = tf.convert_to_tensor(rbfi.A, dtype=tf.float64)"
   ]
  },
  {
   "cell_type": "code",
   "execution_count": 62,
   "metadata": {
    "collapsed": true
   },
   "outputs": [],
   "source": [
    "tf_di = tf.convert_to_tensor(rbfi.di, dtype=tf.float64)"
   ]
  },
  {
   "cell_type": "code",
   "execution_count": 54,
   "metadata": {
    "collapsed": true
   },
   "outputs": [],
   "source": [
    "tf_di = tf.expand_dims(tf_di, 1)"
   ]
  },
  {
   "cell_type": "code",
   "execution_count": 61,
   "metadata": {},
   "outputs": [
    {
     "data": {
      "text/plain": [
       "array([[ 0.49160599],\n",
       "       [ 0.12938456],\n",
       "       [ 0.30019097],\n",
       "       [ 0.61767145],\n",
       "       [ 0.40779301],\n",
       "       [ 0.68039477],\n",
       "       [ 0.5664044 ],\n",
       "       [ 0.78909106],\n",
       "       [ 0.80271959],\n",
       "       [ 0.68905749],\n",
       "       [ 0.35805022],\n",
       "       [ 0.02314279],\n",
       "       [ 0.22622383],\n",
       "       [ 0.95835426],\n",
       "       [ 0.20421891],\n",
       "       [ 0.72075174],\n",
       "       [ 0.1439016 ],\n",
       "       [ 0.66159104],\n",
       "       [ 0.78901559],\n",
       "       [ 0.48848783],\n",
       "       [ 0.81132225],\n",
       "       [ 0.81259163],\n",
       "       [ 0.91996269],\n",
       "       [ 0.94257481],\n",
       "       [ 0.19090937],\n",
       "       [ 0.41358901],\n",
       "       [ 0.58595213],\n",
       "       [ 0.54861451],\n",
       "       [ 0.26443823],\n",
       "       [ 0.00147262],\n",
       "       [ 0.48664712],\n",
       "       [ 0.42955664],\n",
       "       [ 0.46928111],\n",
       "       [ 0.71496355],\n",
       "       [ 0.21114637],\n",
       "       [ 0.08619027],\n",
       "       [ 0.80970824],\n",
       "       [ 0.39579425],\n",
       "       [ 0.71997886],\n",
       "       [ 0.30525721],\n",
       "       [ 0.28256671],\n",
       "       [ 0.4506653 ],\n",
       "       [ 0.87888539],\n",
       "       [ 0.27649925],\n",
       "       [ 0.43900253],\n",
       "       [ 0.23306692],\n",
       "       [ 0.57099376],\n",
       "       [ 0.37612214],\n",
       "       [ 0.04483897],\n",
       "       [ 0.300659  ]])"
      ]
     },
     "execution_count": 61,
     "metadata": {},
     "output_type": "execute_result"
    }
   ],
   "source": [
    "tf_di.eval()"
   ]
  },
  {
   "cell_type": "code",
   "execution_count": 55,
   "metadata": {
    "collapsed": true
   },
   "outputs": [],
   "source": [
    "tf_nodes = tf.matrix_solve(tf_A, tf_di)"
   ]
  },
  {
   "cell_type": "code",
   "execution_count": 35,
   "metadata": {},
   "outputs": [
    {
     "data": {
      "text/plain": [
       "(50,)"
      ]
     },
     "execution_count": 35,
     "metadata": {},
     "output_type": "execute_result"
    }
   ],
   "source": [
    "rbfi.nodes.shape"
   ]
  },
  {
   "cell_type": "code",
   "execution_count": 36,
   "metadata": {
    "collapsed": true
   },
   "outputs": [],
   "source": [
    "sess = tf.InteractiveSession()"
   ]
  },
  {
   "cell_type": "code",
   "execution_count": 60,
   "metadata": {},
   "outputs": [
    {
     "data": {
      "text/plain": [
       "array([[  2.96984659e-15,  -1.04156619e+00,  -1.10529341e+00, ...,\n",
       "         -3.52622975e-01,  -3.12907597e+00,  -2.60152241e+00],\n",
       "       [  1.04156619e+00,   8.65973959e-15,  -6.37272202e-02, ...,\n",
       "          6.88943216e-01,  -2.08750978e+00,  -1.55995622e+00],\n",
       "       [  1.10529341e+00,   6.37272202e-02,   1.11022302e-14, ...,\n",
       "          7.52670436e-01,  -2.02378256e+00,  -1.49622900e+00],\n",
       "       ..., \n",
       "       [  3.52622975e-01,  -6.88943216e-01,  -7.52670436e-01, ...,\n",
       "         -3.88578059e-16,  -2.77645300e+00,  -2.24889944e+00],\n",
       "       [  3.12907597e+00,   2.08750978e+00,   2.02378256e+00, ...,\n",
       "          2.77645300e+00,   1.68753900e-14,   5.27553558e-01],\n",
       "       [  2.60152241e+00,   1.55995622e+00,   1.49622900e+00, ...,\n",
       "          2.24889944e+00,  -5.27553558e-01,   1.15463195e-14]])"
      ]
     },
     "execution_count": 60,
     "metadata": {},
     "output_type": "execute_result"
    }
   ],
   "source": [
    "tf_nodes.eval() - rbfi.nodes"
   ]
  },
  {
   "cell_type": "code",
   "execution_count": 51,
   "metadata": {},
   "outputs": [
    {
     "data": {
      "text/plain": [
       "array([-0.08641722,  0.95514897,  1.01887619, -0.96074589, -0.16906163,\n",
       "       -2.06381114,  0.48788911, -1.20469071, -7.36545362, -0.24833534,\n",
       "        1.57709232,  2.96475208,  3.05392901, -2.9977262 ,  1.45831535,\n",
       "       -2.75103611,  1.2343249 , -0.07944182, -1.86312113,  2.92273763,\n",
       "       -2.94205737, -4.08647013, -4.4809268 , -5.14616073,  1.17725816,\n",
       "        0.49519107,  0.05427772, -1.77197691,  1.55372472,  9.54431957,\n",
       "       -0.16743971, -0.19984073, -0.33592696, -0.54332665,  2.55890305,\n",
       "        3.9528971 , -3.61324549,  2.08661869, -2.82188936,  2.6254173 ,\n",
       "        2.73131917, -0.55711856, -2.69381203,  0.91239549, -0.77025027,\n",
       "        1.95116591, -0.84174883,  0.26620575,  3.04265875,  2.51510519])"
      ]
     },
     "execution_count": 51,
     "metadata": {},
     "output_type": "execute_result"
    }
   ],
   "source": [
    "rbfi.nodes"
   ]
  },
  {
   "cell_type": "code",
   "execution_count": null,
   "metadata": {
    "collapsed": true
   },
   "outputs": [],
   "source": []
  }
 ],
 "metadata": {
  "kernelspec": {
   "display_name": "Python 3",
   "language": "python",
   "name": "python3"
  },
  "language_info": {
   "codemirror_mode": {
    "name": "ipython",
    "version": 3
   },
   "file_extension": ".py",
   "mimetype": "text/x-python",
   "name": "python",
   "nbconvert_exporter": "python",
   "pygments_lexer": "ipython3",
   "version": "3.6.1"
  }
 },
 "nbformat": 4,
 "nbformat_minor": 2
}
